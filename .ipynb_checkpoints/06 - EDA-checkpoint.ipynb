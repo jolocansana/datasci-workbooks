{
 "cells": [
  {
   "cell_type": "markdown",
   "metadata": {},
   "source": [
    "# Hands-on: EDA\n",
    "\n",
    "This hands-on will cover some techniques for exploratory data analysis using the Citibike Trip Histories dataset. The first few sections include code to prepare the data."
   ]
  },
  {
   "cell_type": "code",
   "execution_count": 1,
   "metadata": {},
   "outputs": [
    {
     "name": "stdout",
     "output_type": "stream",
     "text": [
      "Populating the interactive namespace from numpy and matplotlib\n"
     ]
    }
   ],
   "source": [
    "import os\n",
    "import math\n",
    "import pandas as pd\n",
    "import numpy as np\n",
    "import matplotlib.pyplot as plt\n",
    "import seaborn as sns\n",
    "\n",
    "from scipy.stats import zscore\n",
    "\n",
    "%pylab inline"
   ]
  },
  {
   "cell_type": "markdown",
   "metadata": {},
   "source": [
    "## Data - CitiBike Trip Histories\n",
    "\n",
    "CitiBike provides the data of the bike share through this website: https://www.citibikenyc.com/system-data\n",
    "\n",
    "For this exercise, we'll be using their trip history data which may be found [here](https://s3.amazonaws.com/tripdata/index.html). \n",
    "\n",
    "Kindly choose a 2021 month file to download (not the ones with JC as the prefix). You can download data for January or Febuary (20-50MB in file size for slow internet connections) and extract it to your data folder."
   ]
  },
  {
   "cell_type": "code",
   "execution_count": 2,
   "metadata": {},
   "outputs": [
    {
     "data": {
      "text/html": [
       "<div>\n",
       "<style scoped>\n",
       "    .dataframe tbody tr th:only-of-type {\n",
       "        vertical-align: middle;\n",
       "    }\n",
       "\n",
       "    .dataframe tbody tr th {\n",
       "        vertical-align: top;\n",
       "    }\n",
       "\n",
       "    .dataframe thead th {\n",
       "        text-align: right;\n",
       "    }\n",
       "</style>\n",
       "<table border=\"1\" class=\"dataframe\">\n",
       "  <thead>\n",
       "    <tr style=\"text-align: right;\">\n",
       "      <th></th>\n",
       "      <th>tripduration</th>\n",
       "      <th>starttime</th>\n",
       "      <th>stoptime</th>\n",
       "      <th>start station id</th>\n",
       "      <th>start station name</th>\n",
       "      <th>start station latitude</th>\n",
       "      <th>start station longitude</th>\n",
       "      <th>end station id</th>\n",
       "      <th>end station name</th>\n",
       "      <th>end station latitude</th>\n",
       "      <th>end station longitude</th>\n",
       "      <th>bikeid</th>\n",
       "      <th>usertype</th>\n",
       "      <th>birth year</th>\n",
       "      <th>gender</th>\n",
       "    </tr>\n",
       "  </thead>\n",
       "  <tbody>\n",
       "    <tr>\n",
       "      <th>0</th>\n",
       "      <td>683</td>\n",
       "      <td>2021-02-01 00:08:57.2940</td>\n",
       "      <td>2021-02-01 00:20:21.2680</td>\n",
       "      <td>3483</td>\n",
       "      <td>Montgomery St</td>\n",
       "      <td>40.719420</td>\n",
       "      <td>-74.050990</td>\n",
       "      <td>3203</td>\n",
       "      <td>Hamilton Park</td>\n",
       "      <td>40.727596</td>\n",
       "      <td>-74.044247</td>\n",
       "      <td>40517</td>\n",
       "      <td>Subscriber</td>\n",
       "      <td>1958</td>\n",
       "      <td>1</td>\n",
       "    </tr>\n",
       "    <tr>\n",
       "      <th>1</th>\n",
       "      <td>2850</td>\n",
       "      <td>2021-02-01 00:21:12.4910</td>\n",
       "      <td>2021-02-01 01:08:42.9560</td>\n",
       "      <td>3203</td>\n",
       "      <td>Hamilton Park</td>\n",
       "      <td>40.727596</td>\n",
       "      <td>-74.044247</td>\n",
       "      <td>3275</td>\n",
       "      <td>Columbus Drive</td>\n",
       "      <td>40.718355</td>\n",
       "      <td>-74.038914</td>\n",
       "      <td>40517</td>\n",
       "      <td>Subscriber</td>\n",
       "      <td>1958</td>\n",
       "      <td>1</td>\n",
       "    </tr>\n",
       "    <tr>\n",
       "      <th>2</th>\n",
       "      <td>545</td>\n",
       "      <td>2021-02-01 00:53:08.7500</td>\n",
       "      <td>2021-02-01 01:02:14.3890</td>\n",
       "      <td>3220</td>\n",
       "      <td>5 Corners Library</td>\n",
       "      <td>40.734961</td>\n",
       "      <td>-74.059503</td>\n",
       "      <td>3212</td>\n",
       "      <td>Christ Hospital</td>\n",
       "      <td>40.734786</td>\n",
       "      <td>-74.050444</td>\n",
       "      <td>44907</td>\n",
       "      <td>Customer</td>\n",
       "      <td>1996</td>\n",
       "      <td>1</td>\n",
       "    </tr>\n",
       "    <tr>\n",
       "      <th>3</th>\n",
       "      <td>473</td>\n",
       "      <td>2021-02-01 00:59:10.1110</td>\n",
       "      <td>2021-02-01 01:07:03.8480</td>\n",
       "      <td>3220</td>\n",
       "      <td>5 Corners Library</td>\n",
       "      <td>40.734961</td>\n",
       "      <td>-74.059503</td>\n",
       "      <td>3210</td>\n",
       "      <td>Pershing Field</td>\n",
       "      <td>40.742677</td>\n",
       "      <td>-74.051789</td>\n",
       "      <td>29727</td>\n",
       "      <td>Subscriber</td>\n",
       "      <td>1987</td>\n",
       "      <td>2</td>\n",
       "    </tr>\n",
       "    <tr>\n",
       "      <th>4</th>\n",
       "      <td>748</td>\n",
       "      <td>2021-02-01 01:01:29.4990</td>\n",
       "      <td>2021-02-01 01:13:57.8940</td>\n",
       "      <td>3210</td>\n",
       "      <td>Pershing Field</td>\n",
       "      <td>40.742677</td>\n",
       "      <td>-74.051789</td>\n",
       "      <td>3269</td>\n",
       "      <td>Brunswick &amp; 6th</td>\n",
       "      <td>40.726012</td>\n",
       "      <td>-74.050389</td>\n",
       "      <td>45550</td>\n",
       "      <td>Subscriber</td>\n",
       "      <td>1962</td>\n",
       "      <td>1</td>\n",
       "    </tr>\n",
       "  </tbody>\n",
       "</table>\n",
       "</div>"
      ],
      "text/plain": [
       "   tripduration                 starttime                  stoptime  \\\n",
       "0           683  2021-02-01 00:08:57.2940  2021-02-01 00:20:21.2680   \n",
       "1          2850  2021-02-01 00:21:12.4910  2021-02-01 01:08:42.9560   \n",
       "2           545  2021-02-01 00:53:08.7500  2021-02-01 01:02:14.3890   \n",
       "3           473  2021-02-01 00:59:10.1110  2021-02-01 01:07:03.8480   \n",
       "4           748  2021-02-01 01:01:29.4990  2021-02-01 01:13:57.8940   \n",
       "\n",
       "   start station id start station name  start station latitude  \\\n",
       "0              3483      Montgomery St               40.719420   \n",
       "1              3203      Hamilton Park               40.727596   \n",
       "2              3220  5 Corners Library               40.734961   \n",
       "3              3220  5 Corners Library               40.734961   \n",
       "4              3210     Pershing Field               40.742677   \n",
       "\n",
       "   start station longitude  end station id end station name  \\\n",
       "0               -74.050990            3203    Hamilton Park   \n",
       "1               -74.044247            3275   Columbus Drive   \n",
       "2               -74.059503            3212  Christ Hospital   \n",
       "3               -74.059503            3210   Pershing Field   \n",
       "4               -74.051789            3269  Brunswick & 6th   \n",
       "\n",
       "   end station latitude  end station longitude  bikeid    usertype  \\\n",
       "0             40.727596             -74.044247   40517  Subscriber   \n",
       "1             40.718355             -74.038914   40517  Subscriber   \n",
       "2             40.734786             -74.050444   44907    Customer   \n",
       "3             40.742677             -74.051789   29727  Subscriber   \n",
       "4             40.726012             -74.050389   45550  Subscriber   \n",
       "\n",
       "   birth year  gender  \n",
       "0        1958       1  \n",
       "1        1958       1  \n",
       "2        1996       1  \n",
       "3        1987       2  \n",
       "4        1962       1  "
      ]
     },
     "execution_count": 2,
     "metadata": {},
     "output_type": "execute_result"
    }
   ],
   "source": [
    "data = pd.read_csv('data/202102-citibike-tripdata.csv')\n",
    "data.head()"
   ]
  },
  {
   "cell_type": "markdown",
   "metadata": {},
   "source": [
    "## Feature Extraction"
   ]
  },
  {
   "cell_type": "code",
   "execution_count": 3,
   "metadata": {},
   "outputs": [],
   "source": [
    "data['starttime'] = pd.to_datetime(data['starttime'])\n",
    "data['stoptime'] = pd.to_datetime(data['stoptime'])\n",
    "\n",
    "data['dayofweek'] = data['starttime'].dt.dayofweek\n",
    "data['hourofday'] = data['starttime'].dt.hour\n",
    "data['year'] = data['starttime'].dt.year"
   ]
  },
  {
   "cell_type": "markdown",
   "metadata": {},
   "source": [
    "## Feature Transformation"
   ]
  },
  {
   "cell_type": "code",
   "execution_count": 4,
   "metadata": {},
   "outputs": [],
   "source": [
    "data['duration_min'] = data['tripduration']/60"
   ]
  },
  {
   "cell_type": "markdown",
   "metadata": {},
   "source": [
    "## Feature Generation"
   ]
  },
  {
   "cell_type": "code",
   "execution_count": 5,
   "metadata": {},
   "outputs": [
    {
     "data": {
      "text/html": [
       "<div>\n",
       "<style scoped>\n",
       "    .dataframe tbody tr th:only-of-type {\n",
       "        vertical-align: middle;\n",
       "    }\n",
       "\n",
       "    .dataframe tbody tr th {\n",
       "        vertical-align: top;\n",
       "    }\n",
       "\n",
       "    .dataframe thead th {\n",
       "        text-align: right;\n",
       "    }\n",
       "</style>\n",
       "<table border=\"1\" class=\"dataframe\">\n",
       "  <thead>\n",
       "    <tr style=\"text-align: right;\">\n",
       "      <th></th>\n",
       "      <th>tripduration</th>\n",
       "      <th>starttime</th>\n",
       "      <th>stoptime</th>\n",
       "      <th>start station id</th>\n",
       "      <th>start station name</th>\n",
       "      <th>start station latitude</th>\n",
       "      <th>start station longitude</th>\n",
       "      <th>end station id</th>\n",
       "      <th>end station name</th>\n",
       "      <th>end station latitude</th>\n",
       "      <th>end station longitude</th>\n",
       "      <th>bikeid</th>\n",
       "      <th>usertype</th>\n",
       "      <th>birth year</th>\n",
       "      <th>gender</th>\n",
       "      <th>dayofweek</th>\n",
       "      <th>hourofday</th>\n",
       "      <th>year</th>\n",
       "      <th>duration_min</th>\n",
       "      <th>age</th>\n",
       "    </tr>\n",
       "  </thead>\n",
       "  <tbody>\n",
       "    <tr>\n",
       "      <th>0</th>\n",
       "      <td>683</td>\n",
       "      <td>2021-02-01 00:08:57.294</td>\n",
       "      <td>2021-02-01 00:20:21.268</td>\n",
       "      <td>3483</td>\n",
       "      <td>Montgomery St</td>\n",
       "      <td>40.719420</td>\n",
       "      <td>-74.050990</td>\n",
       "      <td>3203</td>\n",
       "      <td>Hamilton Park</td>\n",
       "      <td>40.727596</td>\n",
       "      <td>-74.044247</td>\n",
       "      <td>40517</td>\n",
       "      <td>Subscriber</td>\n",
       "      <td>1958</td>\n",
       "      <td>1</td>\n",
       "      <td>0</td>\n",
       "      <td>0</td>\n",
       "      <td>2021</td>\n",
       "      <td>11.383333</td>\n",
       "      <td>63</td>\n",
       "    </tr>\n",
       "    <tr>\n",
       "      <th>1</th>\n",
       "      <td>2850</td>\n",
       "      <td>2021-02-01 00:21:12.491</td>\n",
       "      <td>2021-02-01 01:08:42.956</td>\n",
       "      <td>3203</td>\n",
       "      <td>Hamilton Park</td>\n",
       "      <td>40.727596</td>\n",
       "      <td>-74.044247</td>\n",
       "      <td>3275</td>\n",
       "      <td>Columbus Drive</td>\n",
       "      <td>40.718355</td>\n",
       "      <td>-74.038914</td>\n",
       "      <td>40517</td>\n",
       "      <td>Subscriber</td>\n",
       "      <td>1958</td>\n",
       "      <td>1</td>\n",
       "      <td>0</td>\n",
       "      <td>0</td>\n",
       "      <td>2021</td>\n",
       "      <td>47.500000</td>\n",
       "      <td>63</td>\n",
       "    </tr>\n",
       "    <tr>\n",
       "      <th>2</th>\n",
       "      <td>545</td>\n",
       "      <td>2021-02-01 00:53:08.750</td>\n",
       "      <td>2021-02-01 01:02:14.389</td>\n",
       "      <td>3220</td>\n",
       "      <td>5 Corners Library</td>\n",
       "      <td>40.734961</td>\n",
       "      <td>-74.059503</td>\n",
       "      <td>3212</td>\n",
       "      <td>Christ Hospital</td>\n",
       "      <td>40.734786</td>\n",
       "      <td>-74.050444</td>\n",
       "      <td>44907</td>\n",
       "      <td>Customer</td>\n",
       "      <td>1996</td>\n",
       "      <td>1</td>\n",
       "      <td>0</td>\n",
       "      <td>0</td>\n",
       "      <td>2021</td>\n",
       "      <td>9.083333</td>\n",
       "      <td>25</td>\n",
       "    </tr>\n",
       "    <tr>\n",
       "      <th>3</th>\n",
       "      <td>473</td>\n",
       "      <td>2021-02-01 00:59:10.111</td>\n",
       "      <td>2021-02-01 01:07:03.848</td>\n",
       "      <td>3220</td>\n",
       "      <td>5 Corners Library</td>\n",
       "      <td>40.734961</td>\n",
       "      <td>-74.059503</td>\n",
       "      <td>3210</td>\n",
       "      <td>Pershing Field</td>\n",
       "      <td>40.742677</td>\n",
       "      <td>-74.051789</td>\n",
       "      <td>29727</td>\n",
       "      <td>Subscriber</td>\n",
       "      <td>1987</td>\n",
       "      <td>2</td>\n",
       "      <td>0</td>\n",
       "      <td>0</td>\n",
       "      <td>2021</td>\n",
       "      <td>7.883333</td>\n",
       "      <td>34</td>\n",
       "    </tr>\n",
       "    <tr>\n",
       "      <th>4</th>\n",
       "      <td>748</td>\n",
       "      <td>2021-02-01 01:01:29.499</td>\n",
       "      <td>2021-02-01 01:13:57.894</td>\n",
       "      <td>3210</td>\n",
       "      <td>Pershing Field</td>\n",
       "      <td>40.742677</td>\n",
       "      <td>-74.051789</td>\n",
       "      <td>3269</td>\n",
       "      <td>Brunswick &amp; 6th</td>\n",
       "      <td>40.726012</td>\n",
       "      <td>-74.050389</td>\n",
       "      <td>45550</td>\n",
       "      <td>Subscriber</td>\n",
       "      <td>1962</td>\n",
       "      <td>1</td>\n",
       "      <td>0</td>\n",
       "      <td>1</td>\n",
       "      <td>2021</td>\n",
       "      <td>12.466667</td>\n",
       "      <td>59</td>\n",
       "    </tr>\n",
       "  </tbody>\n",
       "</table>\n",
       "</div>"
      ],
      "text/plain": [
       "   tripduration               starttime                stoptime  \\\n",
       "0           683 2021-02-01 00:08:57.294 2021-02-01 00:20:21.268   \n",
       "1          2850 2021-02-01 00:21:12.491 2021-02-01 01:08:42.956   \n",
       "2           545 2021-02-01 00:53:08.750 2021-02-01 01:02:14.389   \n",
       "3           473 2021-02-01 00:59:10.111 2021-02-01 01:07:03.848   \n",
       "4           748 2021-02-01 01:01:29.499 2021-02-01 01:13:57.894   \n",
       "\n",
       "   start station id start station name  start station latitude  \\\n",
       "0              3483      Montgomery St               40.719420   \n",
       "1              3203      Hamilton Park               40.727596   \n",
       "2              3220  5 Corners Library               40.734961   \n",
       "3              3220  5 Corners Library               40.734961   \n",
       "4              3210     Pershing Field               40.742677   \n",
       "\n",
       "   start station longitude  end station id end station name  \\\n",
       "0               -74.050990            3203    Hamilton Park   \n",
       "1               -74.044247            3275   Columbus Drive   \n",
       "2               -74.059503            3212  Christ Hospital   \n",
       "3               -74.059503            3210   Pershing Field   \n",
       "4               -74.051789            3269  Brunswick & 6th   \n",
       "\n",
       "   end station latitude  end station longitude  bikeid    usertype  \\\n",
       "0             40.727596             -74.044247   40517  Subscriber   \n",
       "1             40.718355             -74.038914   40517  Subscriber   \n",
       "2             40.734786             -74.050444   44907    Customer   \n",
       "3             40.742677             -74.051789   29727  Subscriber   \n",
       "4             40.726012             -74.050389   45550  Subscriber   \n",
       "\n",
       "   birth year  gender  dayofweek  hourofday  year  duration_min  age  \n",
       "0        1958       1          0          0  2021     11.383333   63  \n",
       "1        1958       1          0          0  2021     47.500000   63  \n",
       "2        1996       1          0          0  2021      9.083333   25  \n",
       "3        1987       2          0          0  2021      7.883333   34  \n",
       "4        1962       1          0          1  2021     12.466667   59  "
      ]
     },
     "execution_count": 5,
     "metadata": {},
     "output_type": "execute_result"
    }
   ],
   "source": [
    "data['age'] = data['starttime'].dt.year - data['birth year']\n",
    "data.head()"
   ]
  },
  {
   "cell_type": "markdown",
   "metadata": {},
   "source": [
    "#### Distance\n",
    "\n",
    "Another feature we can generate from the data is distance. Although the provided values are in longitude and latitudes and they're measured in degrees, the distance calculated from these points would also be in degrees (and not meters). \n",
    "\n",
    "There's actually a library that specifically handles geospatial data called `geopy` ([Link](https://geopy.readthedocs.io/en/stable/#module-geopy.distance)). For simplicity sake in this tutorial, we use an existing function that calculates the geodesic distance using the Haversine formula given the starting and ending longitude and latitudes: `calculate_distance(lat1, lon1, lat2, lon2)`\n",
    "\n",
    "Credits to [Wayne Dyck](https://gist.github.com/rochacbruno/2883505) for the function."
   ]
  },
  {
   "cell_type": "code",
   "execution_count": 6,
   "metadata": {},
   "outputs": [],
   "source": [
    "def calculate_distance(lat1, lon1, lat2, lon2):\n",
    "    \"\"\"\n",
    "    Calculates the distance provided a pair of longitudes and latitudes\n",
    "    using the Haversine formula\n",
    "    \n",
    "    Returns the distance in kilometers.\n",
    "    \"\"\"\n",
    "    radius = 6371 # km\n",
    "\n",
    "    dlat = math.radians(lat2-lat1)\n",
    "    dlon = math.radians(lon2-lon1)\n",
    "    a = math.sin(dlat/2) * math.sin(dlat/2) + math.cos(math.radians(lat1)) \\\n",
    "        * math.cos(math.radians(lat2)) * math.sin(dlon/2) * math.sin(dlon/2)\n",
    "    c = 2 * math.atan2(math.sqrt(a), math.sqrt(1-a))\n",
    "    d = radius * c\n",
    "\n",
    "    return d"
   ]
  },
  {
   "cell_type": "code",
   "execution_count": 7,
   "metadata": {},
   "outputs": [],
   "source": [
    "data['distance_km'] = data.apply(lambda x: calculate_distance(x['start station latitude'], x['start station longitude'],\n",
    "                                        x['end station latitude'], x['end station longitude']), axis=1)"
   ]
  },
  {
   "cell_type": "markdown",
   "metadata": {},
   "source": [
    "----\n",
    "----\n",
    "\n",
    "# Exploratory Data Analysis\n",
    "\n",
    "We will do the following:\n",
    "1. Examine the size and structure of the data\n",
    "2. Examine each field individually\n",
    "3. Examine relationships/correlations\n",
    "4. Identify anomalies/outliers"
   ]
  },
  {
   "cell_type": "markdown",
   "metadata": {},
   "source": [
    "## 1. Size and structure of the data"
   ]
  },
  {
   "cell_type": "code",
   "execution_count": 8,
   "metadata": {},
   "outputs": [
    {
     "data": {
      "text/plain": [
       "(4725, 21)"
      ]
     },
     "execution_count": 8,
     "metadata": {},
     "output_type": "execute_result"
    }
   ],
   "source": [
    "data.shape"
   ]
  },
  {
   "cell_type": "markdown",
   "metadata": {},
   "source": [
    "After feater transformations, the dataset now has 634,631 observations with 21 variables."
   ]
  },
  {
   "cell_type": "code",
   "execution_count": 9,
   "metadata": {},
   "outputs": [
    {
     "name": "stdout",
     "output_type": "stream",
     "text": [
      "<class 'pandas.core.frame.DataFrame'>\n",
      "RangeIndex: 4725 entries, 0 to 4724\n",
      "Data columns (total 21 columns):\n",
      " #   Column                   Non-Null Count  Dtype         \n",
      "---  ------                   --------------  -----         \n",
      " 0   tripduration             4725 non-null   int64         \n",
      " 1   starttime                4725 non-null   datetime64[ns]\n",
      " 2   stoptime                 4725 non-null   datetime64[ns]\n",
      " 3   start station id         4725 non-null   int64         \n",
      " 4   start station name       4725 non-null   object        \n",
      " 5   start station latitude   4725 non-null   float64       \n",
      " 6   start station longitude  4725 non-null   float64       \n",
      " 7   end station id           4725 non-null   int64         \n",
      " 8   end station name         4725 non-null   object        \n",
      " 9   end station latitude     4725 non-null   float64       \n",
      " 10  end station longitude    4725 non-null   float64       \n",
      " 11  bikeid                   4725 non-null   int64         \n",
      " 12  usertype                 4725 non-null   object        \n",
      " 13  birth year               4725 non-null   int64         \n",
      " 14  gender                   4725 non-null   int64         \n",
      " 15  dayofweek                4725 non-null   int64         \n",
      " 16  hourofday                4725 non-null   int64         \n",
      " 17  year                     4725 non-null   int64         \n",
      " 18  duration_min             4725 non-null   float64       \n",
      " 19  age                      4725 non-null   int64         \n",
      " 20  distance_km              4725 non-null   float64       \n",
      "dtypes: datetime64[ns](2), float64(6), int64(10), object(3)\n",
      "memory usage: 775.3+ KB\n"
     ]
    }
   ],
   "source": [
    "data.info()"
   ]
  },
  {
   "cell_type": "markdown",
   "metadata": {},
   "source": [
    "The dataset has a variety of datatypes: integer and float values, date and time, and strings. There are no variables with null/missing values."
   ]
  },
  {
   "cell_type": "code",
   "execution_count": 10,
   "metadata": {},
   "outputs": [
    {
     "data": {
      "text/html": [
       "<div>\n",
       "<style scoped>\n",
       "    .dataframe tbody tr th:only-of-type {\n",
       "        vertical-align: middle;\n",
       "    }\n",
       "\n",
       "    .dataframe tbody tr th {\n",
       "        vertical-align: top;\n",
       "    }\n",
       "\n",
       "    .dataframe thead th {\n",
       "        text-align: right;\n",
       "    }\n",
       "</style>\n",
       "<table border=\"1\" class=\"dataframe\">\n",
       "  <thead>\n",
       "    <tr style=\"text-align: right;\">\n",
       "      <th></th>\n",
       "      <th>tripduration</th>\n",
       "      <th>start station id</th>\n",
       "      <th>start station latitude</th>\n",
       "      <th>start station longitude</th>\n",
       "      <th>end station id</th>\n",
       "      <th>end station latitude</th>\n",
       "      <th>end station longitude</th>\n",
       "      <th>bikeid</th>\n",
       "      <th>birth year</th>\n",
       "      <th>gender</th>\n",
       "      <th>dayofweek</th>\n",
       "      <th>hourofday</th>\n",
       "      <th>year</th>\n",
       "      <th>duration_min</th>\n",
       "      <th>age</th>\n",
       "      <th>distance_km</th>\n",
       "    </tr>\n",
       "  </thead>\n",
       "  <tbody>\n",
       "    <tr>\n",
       "      <th>count</th>\n",
       "      <td>4.725000e+03</td>\n",
       "      <td>4725.000000</td>\n",
       "      <td>4725.000000</td>\n",
       "      <td>4725.000000</td>\n",
       "      <td>4725.000000</td>\n",
       "      <td>4725.000000</td>\n",
       "      <td>4725.000000</td>\n",
       "      <td>4725.000000</td>\n",
       "      <td>4725.000000</td>\n",
       "      <td>4725.000000</td>\n",
       "      <td>4725.000000</td>\n",
       "      <td>4725.000000</td>\n",
       "      <td>4725.0</td>\n",
       "      <td>4725.000000</td>\n",
       "      <td>4725.000000</td>\n",
       "      <td>4725.000000</td>\n",
       "    </tr>\n",
       "    <tr>\n",
       "      <th>mean</th>\n",
       "      <td>1.670438e+03</td>\n",
       "      <td>3304.241481</td>\n",
       "      <td>40.722727</td>\n",
       "      <td>-74.047113</td>\n",
       "      <td>3302.378624</td>\n",
       "      <td>40.722550</td>\n",
       "      <td>-74.046446</td>\n",
       "      <td>41115.517037</td>\n",
       "      <td>1972.799365</td>\n",
       "      <td>0.289735</td>\n",
       "      <td>3.268995</td>\n",
       "      <td>15.208889</td>\n",
       "      <td>2021.0</td>\n",
       "      <td>27.840631</td>\n",
       "      <td>48.200635</td>\n",
       "      <td>1.028391</td>\n",
       "    </tr>\n",
       "    <tr>\n",
       "      <th>std</th>\n",
       "      <td>2.041336e+04</td>\n",
       "      <td>181.453889</td>\n",
       "      <td>0.006908</td>\n",
       "      <td>0.011888</td>\n",
       "      <td>197.710038</td>\n",
       "      <td>0.006754</td>\n",
       "      <td>0.011639</td>\n",
       "      <td>5683.095080</td>\n",
       "      <td>7.463825</td>\n",
       "      <td>0.547945</td>\n",
       "      <td>1.889804</td>\n",
       "      <td>7.223199</td>\n",
       "      <td>0.0</td>\n",
       "      <td>340.222716</td>\n",
       "      <td>7.463825</td>\n",
       "      <td>0.731979</td>\n",
       "    </tr>\n",
       "    <tr>\n",
       "      <th>min</th>\n",
       "      <td>6.100000e+01</td>\n",
       "      <td>3184.000000</td>\n",
       "      <td>40.711130</td>\n",
       "      <td>-74.083639</td>\n",
       "      <td>151.000000</td>\n",
       "      <td>40.703554</td>\n",
       "      <td>-74.083639</td>\n",
       "      <td>24987.000000</td>\n",
       "      <td>1949.000000</td>\n",
       "      <td>0.000000</td>\n",
       "      <td>0.000000</td>\n",
       "      <td>0.000000</td>\n",
       "      <td>2021.0</td>\n",
       "      <td>1.016667</td>\n",
       "      <td>20.000000</td>\n",
       "      <td>0.000000</td>\n",
       "    </tr>\n",
       "    <tr>\n",
       "      <th>25%</th>\n",
       "      <td>3.250000e+02</td>\n",
       "      <td>3195.000000</td>\n",
       "      <td>40.717732</td>\n",
       "      <td>-74.051789</td>\n",
       "      <td>3195.000000</td>\n",
       "      <td>40.717732</td>\n",
       "      <td>-74.050656</td>\n",
       "      <td>39661.000000</td>\n",
       "      <td>1970.000000</td>\n",
       "      <td>0.000000</td>\n",
       "      <td>2.000000</td>\n",
       "      <td>12.000000</td>\n",
       "      <td>2021.0</td>\n",
       "      <td>5.416667</td>\n",
       "      <td>51.000000</td>\n",
       "      <td>0.570314</td>\n",
       "    </tr>\n",
       "    <tr>\n",
       "      <th>50%</th>\n",
       "      <td>5.290000e+02</td>\n",
       "      <td>3210.000000</td>\n",
       "      <td>40.721630</td>\n",
       "      <td>-74.044247</td>\n",
       "      <td>3209.000000</td>\n",
       "      <td>40.721525</td>\n",
       "      <td>-74.043845</td>\n",
       "      <td>42495.000000</td>\n",
       "      <td>1970.000000</td>\n",
       "      <td>0.000000</td>\n",
       "      <td>3.000000</td>\n",
       "      <td>18.000000</td>\n",
       "      <td>2021.0</td>\n",
       "      <td>8.816667</td>\n",
       "      <td>51.000000</td>\n",
       "      <td>0.889020</td>\n",
       "    </tr>\n",
       "    <tr>\n",
       "      <th>75%</th>\n",
       "      <td>9.500000e+02</td>\n",
       "      <td>3276.000000</td>\n",
       "      <td>40.727551</td>\n",
       "      <td>-74.038051</td>\n",
       "      <td>3276.000000</td>\n",
       "      <td>40.727224</td>\n",
       "      <td>-74.037683</td>\n",
       "      <td>44744.000000</td>\n",
       "      <td>1970.000000</td>\n",
       "      <td>0.000000</td>\n",
       "      <td>5.000000</td>\n",
       "      <td>21.000000</td>\n",
       "      <td>2021.0</td>\n",
       "      <td>15.833333</td>\n",
       "      <td>51.000000</td>\n",
       "      <td>1.430533</td>\n",
       "    </tr>\n",
       "    <tr>\n",
       "      <th>max</th>\n",
       "      <td>1.086982e+06</td>\n",
       "      <td>3792.000000</td>\n",
       "      <td>40.748716</td>\n",
       "      <td>-74.032108</td>\n",
       "      <td>3794.000000</td>\n",
       "      <td>40.751873</td>\n",
       "      <td>-73.977706</td>\n",
       "      <td>49503.000000</td>\n",
       "      <td>2001.000000</td>\n",
       "      <td>2.000000</td>\n",
       "      <td>6.000000</td>\n",
       "      <td>23.000000</td>\n",
       "      <td>2021.0</td>\n",
       "      <td>18116.366667</td>\n",
       "      <td>72.000000</td>\n",
       "      <td>8.349835</td>\n",
       "    </tr>\n",
       "  </tbody>\n",
       "</table>\n",
       "</div>"
      ],
      "text/plain": [
       "       tripduration  start station id  start station latitude  \\\n",
       "count  4.725000e+03       4725.000000             4725.000000   \n",
       "mean   1.670438e+03       3304.241481               40.722727   \n",
       "std    2.041336e+04        181.453889                0.006908   \n",
       "min    6.100000e+01       3184.000000               40.711130   \n",
       "25%    3.250000e+02       3195.000000               40.717732   \n",
       "50%    5.290000e+02       3210.000000               40.721630   \n",
       "75%    9.500000e+02       3276.000000               40.727551   \n",
       "max    1.086982e+06       3792.000000               40.748716   \n",
       "\n",
       "       start station longitude  end station id  end station latitude  \\\n",
       "count              4725.000000     4725.000000           4725.000000   \n",
       "mean                -74.047113     3302.378624             40.722550   \n",
       "std                   0.011888      197.710038              0.006754   \n",
       "min                 -74.083639      151.000000             40.703554   \n",
       "25%                 -74.051789     3195.000000             40.717732   \n",
       "50%                 -74.044247     3209.000000             40.721525   \n",
       "75%                 -74.038051     3276.000000             40.727224   \n",
       "max                 -74.032108     3794.000000             40.751873   \n",
       "\n",
       "       end station longitude        bikeid   birth year       gender  \\\n",
       "count            4725.000000   4725.000000  4725.000000  4725.000000   \n",
       "mean              -74.046446  41115.517037  1972.799365     0.289735   \n",
       "std                 0.011639   5683.095080     7.463825     0.547945   \n",
       "min               -74.083639  24987.000000  1949.000000     0.000000   \n",
       "25%               -74.050656  39661.000000  1970.000000     0.000000   \n",
       "50%               -74.043845  42495.000000  1970.000000     0.000000   \n",
       "75%               -74.037683  44744.000000  1970.000000     0.000000   \n",
       "max               -73.977706  49503.000000  2001.000000     2.000000   \n",
       "\n",
       "         dayofweek    hourofday    year  duration_min          age  \\\n",
       "count  4725.000000  4725.000000  4725.0   4725.000000  4725.000000   \n",
       "mean      3.268995    15.208889  2021.0     27.840631    48.200635   \n",
       "std       1.889804     7.223199     0.0    340.222716     7.463825   \n",
       "min       0.000000     0.000000  2021.0      1.016667    20.000000   \n",
       "25%       2.000000    12.000000  2021.0      5.416667    51.000000   \n",
       "50%       3.000000    18.000000  2021.0      8.816667    51.000000   \n",
       "75%       5.000000    21.000000  2021.0     15.833333    51.000000   \n",
       "max       6.000000    23.000000  2021.0  18116.366667    72.000000   \n",
       "\n",
       "       distance_km  \n",
       "count  4725.000000  \n",
       "mean      1.028391  \n",
       "std       0.731979  \n",
       "min       0.000000  \n",
       "25%       0.570314  \n",
       "50%       0.889020  \n",
       "75%       1.430533  \n",
       "max       8.349835  "
      ]
     },
     "execution_count": 10,
     "metadata": {},
     "output_type": "execute_result"
    }
   ],
   "source": [
    "# Get descriptive statistics of quantitative variables\n",
    "data.describe()"
   ]
  },
  {
   "cell_type": "markdown",
   "metadata": {},
   "source": [
    "Although these variables are all quantitative, it doesn't really make sense to look at the statistics for unique IDs and spatial data like `start station id`, `start station latitude`, `start station longitude`, and `bikeid`, among others. Here, we will just focus on the values for `birth year`, `duration_min`, `age`, and `distance_km`.\n",
    "\n",
    "Few insights from the `data.describe()` function:\n",
    "\n",
    "1. The minimum `birth year` is 1885 which has a remarkably large difference from the 25th percentile value. Can this be anomalous data?\n",
    "2. There is a very large difference between the maximum and 75th percentile values of `duration_min` and `age`.\n",
    "3. Observations #1 & #2 indicate possible outliers in the data. "
   ]
  },
  {
   "cell_type": "code",
   "execution_count": 11,
   "metadata": {},
   "outputs": [
    {
     "data": {
      "text/html": [
       "<div>\n",
       "<style scoped>\n",
       "    .dataframe tbody tr th:only-of-type {\n",
       "        vertical-align: middle;\n",
       "    }\n",
       "\n",
       "    .dataframe tbody tr th {\n",
       "        vertical-align: top;\n",
       "    }\n",
       "\n",
       "    .dataframe thead th {\n",
       "        text-align: right;\n",
       "    }\n",
       "</style>\n",
       "<table border=\"1\" class=\"dataframe\">\n",
       "  <thead>\n",
       "    <tr style=\"text-align: right;\">\n",
       "      <th></th>\n",
       "      <th>start station name</th>\n",
       "      <th>end station name</th>\n",
       "      <th>usertype</th>\n",
       "    </tr>\n",
       "  </thead>\n",
       "  <tbody>\n",
       "    <tr>\n",
       "      <th>count</th>\n",
       "      <td>4725</td>\n",
       "      <td>4725</td>\n",
       "      <td>4725</td>\n",
       "    </tr>\n",
       "    <tr>\n",
       "      <th>unique</th>\n",
       "      <td>51</td>\n",
       "      <td>55</td>\n",
       "      <td>2</td>\n",
       "    </tr>\n",
       "    <tr>\n",
       "      <th>top</th>\n",
       "      <td>Newport Pkwy</td>\n",
       "      <td>Grove St PATH</td>\n",
       "      <td>Customer</td>\n",
       "    </tr>\n",
       "    <tr>\n",
       "      <th>freq</th>\n",
       "      <td>287</td>\n",
       "      <td>298</td>\n",
       "      <td>3624</td>\n",
       "    </tr>\n",
       "  </tbody>\n",
       "</table>\n",
       "</div>"
      ],
      "text/plain": [
       "       start station name end station name  usertype\n",
       "count                4725             4725      4725\n",
       "unique                 51               55         2\n",
       "top          Newport Pkwy    Grove St PATH  Customer\n",
       "freq                  287              298      3624"
      ]
     },
     "execution_count": 11,
     "metadata": {},
     "output_type": "execute_result"
    }
   ],
   "source": [
    "data.describe(include=np.object)"
   ]
  },
  {
   "cell_type": "markdown",
   "metadata": {},
   "source": [
    "These are the descriptive stats for the categorical variables. "
   ]
  },
  {
   "cell_type": "markdown",
   "metadata": {},
   "source": [
    "## 2. Examining individual variables\n",
    "\n",
    "Now, we can start generating simple visualizations to help us better understand the values in each variable."
   ]
  },
  {
   "cell_type": "markdown",
   "metadata": {},
   "source": [
    "### User type"
   ]
  },
  {
   "cell_type": "code",
   "execution_count": 12,
   "metadata": {},
   "outputs": [
    {
     "data": {
      "image/png": "[encoded data removed]",
      "text/plain": [
       "<Figure size 360x360 with 1 Axes>"
      ]
     },
     "metadata": {},
     "output_type": "display_data"
    }
   ],
   "source": [
    "sns.set_theme(style=\"whitegrid\")\n",
    "\n",
    "usertype_plot = sns.catplot(x=\"usertype\", kind=\"count\", order=[\"Customer\", \"Subscriber\"], data=data)"
   ]
  },
  {
   "cell_type": "markdown",
   "metadata": {},
   "source": [
    "There are more one-time users of CitiBike than there are subscribers."
   ]
  },
  {
   "cell_type": "markdown",
   "metadata": {},
   "source": [
    "### Age"
   ]
  },
  {
   "cell_type": "code",
   "execution_count": 13,
   "metadata": {},
   "outputs": [
    {
     "data": {
      "image/png": "[encoded data removed]",
      "text/plain": [
       "<Figure size 1800x468 with 1 Axes>"
      ]
     },
     "metadata": {},
     "output_type": "display_data"
    }
   ],
   "source": [
    "age_plot = sns.catplot(x=\"age\", kind=\"count\", data=data)\n",
    "age_plot.set(ylim=(0,7500)) # Limit the maximum y-axis value because of one outlier count for age 52\n",
    "age_plot.fig.set_size_inches(25, 6.5)"
   ]
  },
  {
   "cell_type": "code",
   "execution_count": 14,
   "metadata": {},
   "outputs": [
    {
     "data": {
      "text/plain": [
       "51    3563\n",
       "34     120\n",
       "31      65\n",
       "30      65\n",
       "33      55\n",
       "32      52\n",
       "44      50\n",
       "36      49\n",
       "35      47\n",
       "25      43\n",
       "42      40\n",
       "41      38\n",
       "48      36\n",
       "29      32\n",
       "61      30\n",
       "38      29\n",
       "37      29\n",
       "39      28\n",
       "63      28\n",
       "28      25\n",
       "23      23\n",
       "52      22\n",
       "53      20\n",
       "55      20\n",
       "62      19\n",
       "27      19\n",
       "40      18\n",
       "46      17\n",
       "43      13\n",
       "26      13\n",
       "59      12\n",
       "50      11\n",
       "65      10\n",
       "54      10\n",
       "49       9\n",
       "57       9\n",
       "72       8\n",
       "45       8\n",
       "24       6\n",
       "56       5\n",
       "64       5\n",
       "68       4\n",
       "60       4\n",
       "69       4\n",
       "58       3\n",
       "47       3\n",
       "67       2\n",
       "22       2\n",
       "66       1\n",
       "20       1\n",
       "Name: age, dtype: int64"
      ]
     },
     "execution_count": 14,
     "metadata": {},
     "output_type": "execute_result"
    }
   ],
   "source": [
    "data[\"age\"].value_counts()"
   ]
  },
  {
   "cell_type": "markdown",
   "metadata": {},
   "source": [
    "### Starting Stations"
   ]
  },
  {
   "cell_type": "code",
   "execution_count": 15,
   "metadata": {},
   "outputs": [
    {
     "data": {
      "text/html": [
       "<div>\n",
       "<style scoped>\n",
       "    .dataframe tbody tr th:only-of-type {\n",
       "        vertical-align: middle;\n",
       "    }\n",
       "\n",
       "    .dataframe tbody tr th {\n",
       "        vertical-align: top;\n",
       "    }\n",
       "\n",
       "    .dataframe thead th {\n",
       "        text-align: right;\n",
       "    }\n",
       "</style>\n",
       "<table border=\"1\" class=\"dataframe\">\n",
       "  <thead>\n",
       "    <tr style=\"text-align: right;\">\n",
       "      <th></th>\n",
       "      <th>Station name</th>\n",
       "      <th>counts</th>\n",
       "    </tr>\n",
       "  </thead>\n",
       "  <tbody>\n",
       "    <tr>\n",
       "      <th>0</th>\n",
       "      <td>Newport Pkwy</td>\n",
       "      <td>287</td>\n",
       "    </tr>\n",
       "    <tr>\n",
       "      <th>1</th>\n",
       "      <td>Grove St PATH</td>\n",
       "      <td>272</td>\n",
       "    </tr>\n",
       "    <tr>\n",
       "      <th>2</th>\n",
       "      <td>Hamilton Park</td>\n",
       "      <td>269</td>\n",
       "    </tr>\n",
       "    <tr>\n",
       "      <th>3</th>\n",
       "      <td>Marin Light Rail</td>\n",
       "      <td>225</td>\n",
       "    </tr>\n",
       "    <tr>\n",
       "      <th>4</th>\n",
       "      <td>Sip Ave</td>\n",
       "      <td>217</td>\n",
       "    </tr>\n",
       "    <tr>\n",
       "      <th>5</th>\n",
       "      <td>Newport PATH</td>\n",
       "      <td>201</td>\n",
       "    </tr>\n",
       "    <tr>\n",
       "      <th>6</th>\n",
       "      <td>Warren St</td>\n",
       "      <td>163</td>\n",
       "    </tr>\n",
       "    <tr>\n",
       "      <th>7</th>\n",
       "      <td>Harborside</td>\n",
       "      <td>161</td>\n",
       "    </tr>\n",
       "    <tr>\n",
       "      <th>8</th>\n",
       "      <td>JC Medical Center</td>\n",
       "      <td>157</td>\n",
       "    </tr>\n",
       "    <tr>\n",
       "      <th>9</th>\n",
       "      <td>Columbus Dr at Exchange Pl</td>\n",
       "      <td>154</td>\n",
       "    </tr>\n",
       "  </tbody>\n",
       "</table>\n",
       "</div>"
      ],
      "text/plain": [
       "                 Station name  counts\n",
       "0                Newport Pkwy     287\n",
       "1               Grove St PATH     272\n",
       "2               Hamilton Park     269\n",
       "3            Marin Light Rail     225\n",
       "4                     Sip Ave     217\n",
       "5                Newport PATH     201\n",
       "6                   Warren St     163\n",
       "7                  Harborside     161\n",
       "8           JC Medical Center     157\n",
       "9  Columbus Dr at Exchange Pl     154"
      ]
     },
     "execution_count": 15,
     "metadata": {},
     "output_type": "execute_result"
    }
   ],
   "source": [
    "start_stations = data[\"start station name\"].value_counts().rename_axis('Station name').reset_index(name='counts')\n",
    "start_stations = start_stations.nlargest(10, 'counts')\n",
    "start_stations"
   ]
  },
  {
   "cell_type": "code",
   "execution_count": 16,
   "metadata": {},
   "outputs": [
    {
     "data": {
      "image/png": "[encoded data removed]",
      "text/plain": [
       "<Figure size 360x360 with 1 Axes>"
      ]
     },
     "metadata": {},
     "output_type": "display_data"
    }
   ],
   "source": [
    "start_station_plot = sns.catplot(y=\"Station name\", x=\"counts\", orient=\"h\", kind=\"bar\", data=start_stations)"
   ]
  },
  {
   "cell_type": "markdown",
   "metadata": {},
   "source": [
    "### Ending stations"
   ]
  },
  {
   "cell_type": "code",
   "execution_count": 17,
   "metadata": {},
   "outputs": [
    {
     "data": {
      "text/html": [
       "<div>\n",
       "<style scoped>\n",
       "    .dataframe tbody tr th:only-of-type {\n",
       "        vertical-align: middle;\n",
       "    }\n",
       "\n",
       "    .dataframe tbody tr th {\n",
       "        vertical-align: top;\n",
       "    }\n",
       "\n",
       "    .dataframe thead th {\n",
       "        text-align: right;\n",
       "    }\n",
       "</style>\n",
       "<table border=\"1\" class=\"dataframe\">\n",
       "  <thead>\n",
       "    <tr style=\"text-align: right;\">\n",
       "      <th></th>\n",
       "      <th>Station name</th>\n",
       "      <th>counts</th>\n",
       "    </tr>\n",
       "  </thead>\n",
       "  <tbody>\n",
       "    <tr>\n",
       "      <th>0</th>\n",
       "      <td>Grove St PATH</td>\n",
       "      <td>298</td>\n",
       "    </tr>\n",
       "    <tr>\n",
       "      <th>1</th>\n",
       "      <td>Newport Pkwy</td>\n",
       "      <td>293</td>\n",
       "    </tr>\n",
       "    <tr>\n",
       "      <th>2</th>\n",
       "      <td>Hamilton Park</td>\n",
       "      <td>261</td>\n",
       "    </tr>\n",
       "    <tr>\n",
       "      <th>3</th>\n",
       "      <td>Sip Ave</td>\n",
       "      <td>220</td>\n",
       "    </tr>\n",
       "    <tr>\n",
       "      <th>4</th>\n",
       "      <td>Newport PATH</td>\n",
       "      <td>218</td>\n",
       "    </tr>\n",
       "    <tr>\n",
       "      <th>5</th>\n",
       "      <td>Marin Light Rail</td>\n",
       "      <td>208</td>\n",
       "    </tr>\n",
       "    <tr>\n",
       "      <th>6</th>\n",
       "      <td>City Hall</td>\n",
       "      <td>164</td>\n",
       "    </tr>\n",
       "    <tr>\n",
       "      <th>7</th>\n",
       "      <td>Warren St</td>\n",
       "      <td>164</td>\n",
       "    </tr>\n",
       "    <tr>\n",
       "      <th>8</th>\n",
       "      <td>JC Medical Center</td>\n",
       "      <td>163</td>\n",
       "    </tr>\n",
       "    <tr>\n",
       "      <th>9</th>\n",
       "      <td>Harborside</td>\n",
       "      <td>161</td>\n",
       "    </tr>\n",
       "  </tbody>\n",
       "</table>\n",
       "</div>"
      ],
      "text/plain": [
       "        Station name  counts\n",
       "0      Grove St PATH     298\n",
       "1       Newport Pkwy     293\n",
       "2      Hamilton Park     261\n",
       "3            Sip Ave     220\n",
       "4       Newport PATH     218\n",
       "5   Marin Light Rail     208\n",
       "6          City Hall     164\n",
       "7          Warren St     164\n",
       "8  JC Medical Center     163\n",
       "9         Harborside     161"
      ]
     },
     "execution_count": 17,
     "metadata": {},
     "output_type": "execute_result"
    }
   ],
   "source": [
    "end_stations = data[\"end station name\"].value_counts().rename_axis('Station name').reset_index(name='counts')\n",
    "end_stations = end_stations.nlargest(10, 'counts')\n",
    "end_stations"
   ]
  },
  {
   "cell_type": "code",
   "execution_count": 18,
   "metadata": {},
   "outputs": [
    {
     "data": {
      "image/png": "[encoded data removed]",
      "text/plain": [
       "<Figure size 360x360 with 1 Axes>"
      ]
     },
     "metadata": {},
     "output_type": "display_data"
    }
   ],
   "source": [
    "end_station_plot = sns.catplot(y=\"Station name\", x=\"counts\", orient=\"h\", kind=\"bar\", data=end_stations)"
   ]
  },
  {
   "cell_type": "markdown",
   "metadata": {},
   "source": [
    "We can see from both plots that the top 10 start and end stations are consistent with each other. This indicates high taffic areas which can be potential locations for adding more bikes and bike docks. "
   ]
  },
  {
   "cell_type": "markdown",
   "metadata": {},
   "source": [
    "### Origin-Destination Pairs\n",
    "\n",
    "Here we create `od_trips` which contains the origin-destination pairs derived from the unique pairs of `start station name` and `end station name`."
   ]
  },
  {
   "cell_type": "code",
   "execution_count": 19,
   "metadata": {},
   "outputs": [
    {
     "data": {
      "text/html": [
       "<div>\n",
       "<style scoped>\n",
       "    .dataframe tbody tr th:only-of-type {\n",
       "        vertical-align: middle;\n",
       "    }\n",
       "\n",
       "    .dataframe tbody tr th {\n",
       "        vertical-align: top;\n",
       "    }\n",
       "\n",
       "    .dataframe thead th {\n",
       "        text-align: right;\n",
       "    }\n",
       "</style>\n",
       "<table border=\"1\" class=\"dataframe\">\n",
       "  <thead>\n",
       "    <tr style=\"text-align: right;\">\n",
       "      <th></th>\n",
       "      <th>start</th>\n",
       "      <th>end</th>\n",
       "      <th>total_trips</th>\n",
       "    </tr>\n",
       "  </thead>\n",
       "  <tbody>\n",
       "    <tr>\n",
       "      <th>0</th>\n",
       "      <td>5 Corners Library</td>\n",
       "      <td>5 Corners Library</td>\n",
       "      <td>3</td>\n",
       "    </tr>\n",
       "    <tr>\n",
       "      <th>1</th>\n",
       "      <td>5 Corners Library</td>\n",
       "      <td>Brunswick St</td>\n",
       "      <td>1</td>\n",
       "    </tr>\n",
       "    <tr>\n",
       "      <th>2</th>\n",
       "      <td>5 Corners Library</td>\n",
       "      <td>Christ Hospital</td>\n",
       "      <td>3</td>\n",
       "    </tr>\n",
       "    <tr>\n",
       "      <th>3</th>\n",
       "      <td>5 Corners Library</td>\n",
       "      <td>City Hall</td>\n",
       "      <td>1</td>\n",
       "    </tr>\n",
       "    <tr>\n",
       "      <th>4</th>\n",
       "      <td>5 Corners Library</td>\n",
       "      <td>Columbus Drive</td>\n",
       "      <td>1</td>\n",
       "    </tr>\n",
       "  </tbody>\n",
       "</table>\n",
       "</div>"
      ],
      "text/plain": [
       "               start                end  total_trips\n",
       "0  5 Corners Library  5 Corners Library            3\n",
       "1  5 Corners Library       Brunswick St            1\n",
       "2  5 Corners Library    Christ Hospital            3\n",
       "3  5 Corners Library          City Hall            1\n",
       "4  5 Corners Library     Columbus Drive            1"
      ]
     },
     "execution_count": 19,
     "metadata": {},
     "output_type": "execute_result"
    }
   ],
   "source": [
    "## Count of rides per OD\n",
    "od_trips = data.groupby(['start station name', 'end station name'], as_index=False)['bikeid'].count()\n",
    "od_trips = od_trips.rename(columns={\"start station name\": \"start\", \"end station name\": \"end\", \"bikeid\": \"total_trips\"}, errors=\"raise\")\n",
    "od_trips.head()"
   ]
  },
  {
   "cell_type": "code",
   "execution_count": 20,
   "metadata": {},
   "outputs": [
    {
     "data": {
      "text/html": [
       "<div>\n",
       "<style scoped>\n",
       "    .dataframe tbody tr th:only-of-type {\n",
       "        vertical-align: middle;\n",
       "    }\n",
       "\n",
       "    .dataframe tbody tr th {\n",
       "        vertical-align: top;\n",
       "    }\n",
       "\n",
       "    .dataframe thead th {\n",
       "        text-align: right;\n",
       "    }\n",
       "</style>\n",
       "<table border=\"1\" class=\"dataframe\">\n",
       "  <thead>\n",
       "    <tr style=\"text-align: right;\">\n",
       "      <th></th>\n",
       "      <th>start</th>\n",
       "      <th>end</th>\n",
       "      <th>total_trips</th>\n",
       "      <th>od</th>\n",
       "    </tr>\n",
       "  </thead>\n",
       "  <tbody>\n",
       "    <tr>\n",
       "      <th>0</th>\n",
       "      <td>5 Corners Library</td>\n",
       "      <td>5 Corners Library</td>\n",
       "      <td>3</td>\n",
       "      <td>5 Corners Library to 5 Corners Library</td>\n",
       "    </tr>\n",
       "    <tr>\n",
       "      <th>1</th>\n",
       "      <td>5 Corners Library</td>\n",
       "      <td>Brunswick St</td>\n",
       "      <td>1</td>\n",
       "      <td>5 Corners Library to Brunswick St</td>\n",
       "    </tr>\n",
       "    <tr>\n",
       "      <th>2</th>\n",
       "      <td>5 Corners Library</td>\n",
       "      <td>Christ Hospital</td>\n",
       "      <td>3</td>\n",
       "      <td>5 Corners Library to Christ Hospital</td>\n",
       "    </tr>\n",
       "    <tr>\n",
       "      <th>3</th>\n",
       "      <td>5 Corners Library</td>\n",
       "      <td>City Hall</td>\n",
       "      <td>1</td>\n",
       "      <td>5 Corners Library to City Hall</td>\n",
       "    </tr>\n",
       "    <tr>\n",
       "      <th>4</th>\n",
       "      <td>5 Corners Library</td>\n",
       "      <td>Columbus Drive</td>\n",
       "      <td>1</td>\n",
       "      <td>5 Corners Library to Columbus Drive</td>\n",
       "    </tr>\n",
       "    <tr>\n",
       "      <th>...</th>\n",
       "      <td>...</td>\n",
       "      <td>...</td>\n",
       "      <td>...</td>\n",
       "      <td>...</td>\n",
       "    </tr>\n",
       "    <tr>\n",
       "      <th>1149</th>\n",
       "      <td>York St</td>\n",
       "      <td>Newport Pkwy</td>\n",
       "      <td>1</td>\n",
       "      <td>York St to Newport Pkwy</td>\n",
       "    </tr>\n",
       "    <tr>\n",
       "      <th>1150</th>\n",
       "      <td>York St</td>\n",
       "      <td>Paulus Hook</td>\n",
       "      <td>1</td>\n",
       "      <td>York St to Paulus Hook</td>\n",
       "    </tr>\n",
       "    <tr>\n",
       "      <th>1151</th>\n",
       "      <td>York St</td>\n",
       "      <td>Van Vorst Park</td>\n",
       "      <td>1</td>\n",
       "      <td>York St to Van Vorst Park</td>\n",
       "    </tr>\n",
       "    <tr>\n",
       "      <th>1152</th>\n",
       "      <td>York St</td>\n",
       "      <td>Warren St</td>\n",
       "      <td>1</td>\n",
       "      <td>York St to Warren St</td>\n",
       "    </tr>\n",
       "    <tr>\n",
       "      <th>1153</th>\n",
       "      <td>York St</td>\n",
       "      <td>York St</td>\n",
       "      <td>2</td>\n",
       "      <td>York St to York St</td>\n",
       "    </tr>\n",
       "  </tbody>\n",
       "</table>\n",
       "<p>1154 rows × 4 columns</p>\n",
       "</div>"
      ],
      "text/plain": [
       "                  start                end  total_trips  \\\n",
       "0     5 Corners Library  5 Corners Library            3   \n",
       "1     5 Corners Library       Brunswick St            1   \n",
       "2     5 Corners Library    Christ Hospital            3   \n",
       "3     5 Corners Library          City Hall            1   \n",
       "4     5 Corners Library     Columbus Drive            1   \n",
       "...                 ...                ...          ...   \n",
       "1149            York St       Newport Pkwy            1   \n",
       "1150            York St        Paulus Hook            1   \n",
       "1151            York St     Van Vorst Park            1   \n",
       "1152            York St          Warren St            1   \n",
       "1153            York St            York St            2   \n",
       "\n",
       "                                          od  \n",
       "0     5 Corners Library to 5 Corners Library  \n",
       "1          5 Corners Library to Brunswick St  \n",
       "2       5 Corners Library to Christ Hospital  \n",
       "3             5 Corners Library to City Hall  \n",
       "4        5 Corners Library to Columbus Drive  \n",
       "...                                      ...  \n",
       "1149                 York St to Newport Pkwy  \n",
       "1150                  York St to Paulus Hook  \n",
       "1151               York St to Van Vorst Park  \n",
       "1152                    York St to Warren St  \n",
       "1153                      York St to York St  \n",
       "\n",
       "[1154 rows x 4 columns]"
      ]
     },
     "execution_count": 20,
     "metadata": {},
     "output_type": "execute_result"
    }
   ],
   "source": [
    "od_trips[\"od\"] = od_trips[\"start\"] + \" to \" + od_trips[\"end\"]\n",
    "od_trips"
   ]
  },
  {
   "cell_type": "code",
   "execution_count": 21,
   "metadata": {},
   "outputs": [
    {
     "data": {
      "image/png": "[encoded data removed]",
      "text/plain": [
       "<Figure size 360x360 with 1 Axes>"
      ]
     },
     "metadata": {},
     "output_type": "display_data"
    }
   ],
   "source": [
    "od_rank_plot = sns.catplot(y=\"od\", x=\"total_trips\", orient=\"h\", kind=\"bar\", data=od_trips.nlargest(10, \"total_trips\"))"
   ]
  },
  {
   "cell_type": "markdown",
   "metadata": {},
   "source": [
    "### Origin-Destination Matrix\n",
    "\n",
    "In this part, we focus on analyzing the number of trips between the top 10 `start` and `end` stations. It would be impossible to visually analyze for all possible pairs because the dataset is too big."
   ]
  },
  {
   "cell_type": "code",
   "execution_count": 22,
   "metadata": {},
   "outputs": [
    {
     "data": {
      "text/html": [
       "<div>\n",
       "<style scoped>\n",
       "    .dataframe tbody tr th:only-of-type {\n",
       "        vertical-align: middle;\n",
       "    }\n",
       "\n",
       "    .dataframe tbody tr th {\n",
       "        vertical-align: top;\n",
       "    }\n",
       "\n",
       "    .dataframe thead th {\n",
       "        text-align: right;\n",
       "    }\n",
       "</style>\n",
       "<table border=\"1\" class=\"dataframe\">\n",
       "  <thead>\n",
       "    <tr style=\"text-align: right;\">\n",
       "      <th></th>\n",
       "      <th>start</th>\n",
       "      <th>end</th>\n",
       "      <th>total_trips</th>\n",
       "      <th>od</th>\n",
       "    </tr>\n",
       "  </thead>\n",
       "  <tbody>\n",
       "    <tr>\n",
       "      <th>179</th>\n",
       "      <td>Columbus Dr at Exchange Pl</td>\n",
       "      <td>City Hall</td>\n",
       "      <td>2</td>\n",
       "      <td>Columbus Dr at Exchange Pl to City Hall</td>\n",
       "    </tr>\n",
       "    <tr>\n",
       "      <th>185</th>\n",
       "      <td>Columbus Dr at Exchange Pl</td>\n",
       "      <td>Grove St PATH</td>\n",
       "      <td>4</td>\n",
       "      <td>Columbus Dr at Exchange Pl to Grove St PATH</td>\n",
       "    </tr>\n",
       "    <tr>\n",
       "      <th>186</th>\n",
       "      <td>Columbus Dr at Exchange Pl</td>\n",
       "      <td>Hamilton Park</td>\n",
       "      <td>5</td>\n",
       "      <td>Columbus Dr at Exchange Pl to Hamilton Park</td>\n",
       "    </tr>\n",
       "    <tr>\n",
       "      <th>187</th>\n",
       "      <td>Columbus Dr at Exchange Pl</td>\n",
       "      <td>Harborside</td>\n",
       "      <td>32</td>\n",
       "      <td>Columbus Dr at Exchange Pl to Harborside</td>\n",
       "    </tr>\n",
       "    <tr>\n",
       "      <th>192</th>\n",
       "      <td>Columbus Dr at Exchange Pl</td>\n",
       "      <td>Marin Light Rail</td>\n",
       "      <td>9</td>\n",
       "      <td>Columbus Dr at Exchange Pl to Marin Light Rail</td>\n",
       "    </tr>\n",
       "    <tr>\n",
       "      <th>...</th>\n",
       "      <td>...</td>\n",
       "      <td>...</td>\n",
       "      <td>...</td>\n",
       "      <td>...</td>\n",
       "    </tr>\n",
       "    <tr>\n",
       "      <th>1087</th>\n",
       "      <td>Warren St</td>\n",
       "      <td>JC Medical Center</td>\n",
       "      <td>8</td>\n",
       "      <td>Warren St to JC Medical Center</td>\n",
       "    </tr>\n",
       "    <tr>\n",
       "      <th>1092</th>\n",
       "      <td>Warren St</td>\n",
       "      <td>Marin Light Rail</td>\n",
       "      <td>8</td>\n",
       "      <td>Warren St to Marin Light Rail</td>\n",
       "    </tr>\n",
       "    <tr>\n",
       "      <th>1098</th>\n",
       "      <td>Warren St</td>\n",
       "      <td>Newport PATH</td>\n",
       "      <td>12</td>\n",
       "      <td>Warren St to Newport PATH</td>\n",
       "    </tr>\n",
       "    <tr>\n",
       "      <th>1099</th>\n",
       "      <td>Warren St</td>\n",
       "      <td>Newport Pkwy</td>\n",
       "      <td>30</td>\n",
       "      <td>Warren St to Newport Pkwy</td>\n",
       "    </tr>\n",
       "    <tr>\n",
       "      <th>1103</th>\n",
       "      <td>Warren St</td>\n",
       "      <td>Warren St</td>\n",
       "      <td>24</td>\n",
       "      <td>Warren St to Warren St</td>\n",
       "    </tr>\n",
       "  </tbody>\n",
       "</table>\n",
       "<p>90 rows × 4 columns</p>\n",
       "</div>"
      ],
      "text/plain": [
       "                           start                end  total_trips  \\\n",
       "179   Columbus Dr at Exchange Pl          City Hall            2   \n",
       "185   Columbus Dr at Exchange Pl      Grove St PATH            4   \n",
       "186   Columbus Dr at Exchange Pl      Hamilton Park            5   \n",
       "187   Columbus Dr at Exchange Pl         Harborside           32   \n",
       "192   Columbus Dr at Exchange Pl   Marin Light Rail            9   \n",
       "...                          ...                ...          ...   \n",
       "1087                   Warren St  JC Medical Center            8   \n",
       "1092                   Warren St   Marin Light Rail            8   \n",
       "1098                   Warren St       Newport PATH           12   \n",
       "1099                   Warren St       Newport Pkwy           30   \n",
       "1103                   Warren St          Warren St           24   \n",
       "\n",
       "                                                  od  \n",
       "179          Columbus Dr at Exchange Pl to City Hall  \n",
       "185      Columbus Dr at Exchange Pl to Grove St PATH  \n",
       "186      Columbus Dr at Exchange Pl to Hamilton Park  \n",
       "187         Columbus Dr at Exchange Pl to Harborside  \n",
       "192   Columbus Dr at Exchange Pl to Marin Light Rail  \n",
       "...                                              ...  \n",
       "1087                  Warren St to JC Medical Center  \n",
       "1092                   Warren St to Marin Light Rail  \n",
       "1098                       Warren St to Newport PATH  \n",
       "1099                       Warren St to Newport Pkwy  \n",
       "1103                          Warren St to Warren St  \n",
       "\n",
       "[90 rows x 4 columns]"
      ]
     },
     "execution_count": 22,
     "metadata": {},
     "output_type": "execute_result"
    }
   ],
   "source": [
    "# Get the trips between the top 10 stations.\n",
    "\n",
    "od_topten = od_trips[od_trips.start.isin(start_stations[\"Station name\"]) & od_trips.end.isin(end_stations[\"Station name\"])]\n",
    "od_topten"
   ]
  },
  {
   "cell_type": "code",
   "execution_count": 23,
   "metadata": {},
   "outputs": [
    {
     "data": {
      "text/html": [
       "<div>\n",
       "<style scoped>\n",
       "    .dataframe tbody tr th:only-of-type {\n",
       "        vertical-align: middle;\n",
       "    }\n",
       "\n",
       "    .dataframe tbody tr th {\n",
       "        vertical-align: top;\n",
       "    }\n",
       "\n",
       "    .dataframe thead th {\n",
       "        text-align: right;\n",
       "    }\n",
       "</style>\n",
       "<table border=\"1\" class=\"dataframe\">\n",
       "  <thead>\n",
       "    <tr style=\"text-align: right;\">\n",
       "      <th>end</th>\n",
       "      <th>City Hall</th>\n",
       "      <th>Grove St PATH</th>\n",
       "      <th>Hamilton Park</th>\n",
       "      <th>Harborside</th>\n",
       "      <th>JC Medical Center</th>\n",
       "      <th>Marin Light Rail</th>\n",
       "      <th>Newport PATH</th>\n",
       "      <th>Newport Pkwy</th>\n",
       "      <th>Sip Ave</th>\n",
       "      <th>Warren St</th>\n",
       "    </tr>\n",
       "    <tr>\n",
       "      <th>start</th>\n",
       "      <th></th>\n",
       "      <th></th>\n",
       "      <th></th>\n",
       "      <th></th>\n",
       "      <th></th>\n",
       "      <th></th>\n",
       "      <th></th>\n",
       "      <th></th>\n",
       "      <th></th>\n",
       "      <th></th>\n",
       "    </tr>\n",
       "  </thead>\n",
       "  <tbody>\n",
       "    <tr>\n",
       "      <th>Columbus Dr at Exchange Pl</th>\n",
       "      <td>2</td>\n",
       "      <td>4</td>\n",
       "      <td>5</td>\n",
       "      <td>32</td>\n",
       "      <td>0</td>\n",
       "      <td>9</td>\n",
       "      <td>13</td>\n",
       "      <td>14</td>\n",
       "      <td>1</td>\n",
       "      <td>5</td>\n",
       "    </tr>\n",
       "    <tr>\n",
       "      <th>Grove St PATH</th>\n",
       "      <td>9</td>\n",
       "      <td>14</td>\n",
       "      <td>15</td>\n",
       "      <td>5</td>\n",
       "      <td>10</td>\n",
       "      <td>24</td>\n",
       "      <td>3</td>\n",
       "      <td>3</td>\n",
       "      <td>2</td>\n",
       "      <td>5</td>\n",
       "    </tr>\n",
       "    <tr>\n",
       "      <th>Hamilton Park</th>\n",
       "      <td>6</td>\n",
       "      <td>26</td>\n",
       "      <td>50</td>\n",
       "      <td>3</td>\n",
       "      <td>6</td>\n",
       "      <td>4</td>\n",
       "      <td>18</td>\n",
       "      <td>9</td>\n",
       "      <td>0</td>\n",
       "      <td>10</td>\n",
       "    </tr>\n",
       "    <tr>\n",
       "      <th>Harborside</th>\n",
       "      <td>1</td>\n",
       "      <td>8</td>\n",
       "      <td>4</td>\n",
       "      <td>21</td>\n",
       "      <td>2</td>\n",
       "      <td>3</td>\n",
       "      <td>22</td>\n",
       "      <td>11</td>\n",
       "      <td>1</td>\n",
       "      <td>2</td>\n",
       "    </tr>\n",
       "    <tr>\n",
       "      <th>JC Medical Center</th>\n",
       "      <td>13</td>\n",
       "      <td>10</td>\n",
       "      <td>9</td>\n",
       "      <td>1</td>\n",
       "      <td>24</td>\n",
       "      <td>15</td>\n",
       "      <td>12</td>\n",
       "      <td>3</td>\n",
       "      <td>0</td>\n",
       "      <td>9</td>\n",
       "    </tr>\n",
       "    <tr>\n",
       "      <th>Marin Light Rail</th>\n",
       "      <td>14</td>\n",
       "      <td>27</td>\n",
       "      <td>5</td>\n",
       "      <td>9</td>\n",
       "      <td>11</td>\n",
       "      <td>25</td>\n",
       "      <td>18</td>\n",
       "      <td>3</td>\n",
       "      <td>0</td>\n",
       "      <td>15</td>\n",
       "    </tr>\n",
       "    <tr>\n",
       "      <th>Newport PATH</th>\n",
       "      <td>5</td>\n",
       "      <td>3</td>\n",
       "      <td>18</td>\n",
       "      <td>22</td>\n",
       "      <td>6</td>\n",
       "      <td>12</td>\n",
       "      <td>12</td>\n",
       "      <td>29</td>\n",
       "      <td>1</td>\n",
       "      <td>7</td>\n",
       "    </tr>\n",
       "    <tr>\n",
       "      <th>Newport Pkwy</th>\n",
       "      <td>4</td>\n",
       "      <td>4</td>\n",
       "      <td>8</td>\n",
       "      <td>11</td>\n",
       "      <td>5</td>\n",
       "      <td>6</td>\n",
       "      <td>12</td>\n",
       "      <td>78</td>\n",
       "      <td>0</td>\n",
       "      <td>25</td>\n",
       "    </tr>\n",
       "    <tr>\n",
       "      <th>Sip Ave</th>\n",
       "      <td>1</td>\n",
       "      <td>0</td>\n",
       "      <td>0</td>\n",
       "      <td>1</td>\n",
       "      <td>0</td>\n",
       "      <td>0</td>\n",
       "      <td>3</td>\n",
       "      <td>2</td>\n",
       "      <td>16</td>\n",
       "      <td>1</td>\n",
       "    </tr>\n",
       "    <tr>\n",
       "      <th>Warren St</th>\n",
       "      <td>2</td>\n",
       "      <td>5</td>\n",
       "      <td>11</td>\n",
       "      <td>2</td>\n",
       "      <td>8</td>\n",
       "      <td>8</td>\n",
       "      <td>12</td>\n",
       "      <td>30</td>\n",
       "      <td>0</td>\n",
       "      <td>24</td>\n",
       "    </tr>\n",
       "  </tbody>\n",
       "</table>\n",
       "</div>"
      ],
      "text/plain": [
       "end                         City Hall  Grove St PATH  Hamilton Park  \\\n",
       "start                                                                 \n",
       "Columbus Dr at Exchange Pl          2              4              5   \n",
       "Grove St PATH                       9             14             15   \n",
       "Hamilton Park                       6             26             50   \n",
       "Harborside                          1              8              4   \n",
       "JC Medical Center                  13             10              9   \n",
       "Marin Light Rail                   14             27              5   \n",
       "Newport PATH                        5              3             18   \n",
       "Newport Pkwy                        4              4              8   \n",
       "Sip Ave                             1              0              0   \n",
       "Warren St                           2              5             11   \n",
       "\n",
       "end                         Harborside  JC Medical Center  Marin Light Rail  \\\n",
       "start                                                                         \n",
       "Columbus Dr at Exchange Pl          32                  0                 9   \n",
       "Grove St PATH                        5                 10                24   \n",
       "Hamilton Park                        3                  6                 4   \n",
       "Harborside                          21                  2                 3   \n",
       "JC Medical Center                    1                 24                15   \n",
       "Marin Light Rail                     9                 11                25   \n",
       "Newport PATH                        22                  6                12   \n",
       "Newport Pkwy                        11                  5                 6   \n",
       "Sip Ave                              1                  0                 0   \n",
       "Warren St                            2                  8                 8   \n",
       "\n",
       "end                         Newport PATH  Newport Pkwy  Sip Ave  Warren St  \n",
       "start                                                                       \n",
       "Columbus Dr at Exchange Pl            13            14        1          5  \n",
       "Grove St PATH                          3             3        2          5  \n",
       "Hamilton Park                         18             9        0         10  \n",
       "Harborside                            22            11        1          2  \n",
       "JC Medical Center                     12             3        0          9  \n",
       "Marin Light Rail                      18             3        0         15  \n",
       "Newport PATH                          12            29        1          7  \n",
       "Newport Pkwy                          12            78        0         25  \n",
       "Sip Ave                                3             2       16          1  \n",
       "Warren St                             12            30        0         24  "
      ]
     },
     "execution_count": 23,
     "metadata": {},
     "output_type": "execute_result"
    }
   ],
   "source": [
    "# Create a matrix\n",
    "\n",
    "od_matrix = pd.pivot_table(od_topten, index='start', columns='end', values='total_trips', aggfunc=np.sum, fill_value=0)\n",
    "od_matrix"
   ]
  },
  {
   "cell_type": "code",
   "execution_count": 24,
   "metadata": {},
   "outputs": [
    {
     "data": {
      "image/png": "[encoded data removed]",
      "text/plain": [
       "<Figure size 432x288 with 2 Axes>"
      ]
     },
     "metadata": {},
     "output_type": "display_data"
    }
   ],
   "source": [
    "# Generate a heatmap\n",
    "\n",
    "od_heatmap = sns.heatmap(od_matrix)"
   ]
  },
  {
   "cell_type": "code",
   "execution_count": 25,
   "metadata": {},
   "outputs": [
    {
     "data": {
      "image/png": "[encoded data removed]",
      "text/plain": [
       "<Figure size 432x288 with 2 Axes>"
      ]
     },
     "metadata": {},
     "output_type": "display_data"
    }
   ],
   "source": [
    "# Change color palette\n",
    "\n",
    "od_heatmap = sns.heatmap(od_matrix, cmap=\"YlGnBu\", annot=True, fmt=\"d\")"
   ]
  },
  {
   "cell_type": "markdown",
   "metadata": {},
   "source": [
    "### Gender"
   ]
  },
  {
   "cell_type": "code",
   "execution_count": 26,
   "metadata": {},
   "outputs": [
    {
     "data": {
      "image/png": "[encoded data removed]",
      "text/plain": [
       "<Figure size 360x360 with 1 Axes>"
      ]
     },
     "metadata": {},
     "output_type": "display_data"
    }
   ],
   "source": [
    "gender_plot = sns.catplot(x=\"gender\", kind=\"count\", order=[1, 2, 0], data=data)"
   ]
  },
  {
   "cell_type": "markdown",
   "metadata": {},
   "source": [
    "It seems that the dataset contains mostly zero (0) values for the gender. We can continue our analysis by removing those trips with unknown gender."
   ]
  },
  {
   "cell_type": "code",
   "execution_count": 27,
   "metadata": {},
   "outputs": [
    {
     "data": {
      "image/png": "[encoded data removed]",
      "text/plain": [
       "<Figure size 360x360 with 1 Axes>"
      ]
     },
     "metadata": {},
     "output_type": "display_data"
    }
   ],
   "source": [
    "gender_plot = sns.catplot(x=\"gender\", kind=\"count\", order=[1, 2], data=data[data[\"gender\"] > 0])"
   ]
  },
  {
   "cell_type": "markdown",
   "metadata": {},
   "source": [
    "### Day of week"
   ]
  },
  {
   "cell_type": "code",
   "execution_count": 28,
   "metadata": {},
   "outputs": [
    {
     "data": {
      "image/png": "[encoded data removed]",
      "text/plain": [
       "<Figure size 360x360 with 1 Axes>"
      ]
     },
     "metadata": {},
     "output_type": "display_data"
    }
   ],
   "source": [
    "dow_plot = sns.catplot(x=\"dayofweek\", kind=\"count\", data=data)"
   ]
  },
  {
   "cell_type": "markdown",
   "metadata": {},
   "source": [
    "The values for `dayofweek` starts with `0` or `Monday` and ends with `6` or `Sunday`. Based on the bar plot above, most trips happen on Wednesdays, Fridays and Saturdays."
   ]
  },
  {
   "cell_type": "markdown",
   "metadata": {},
   "source": [
    "### Hour of day"
   ]
  },
  {
   "cell_type": "code",
   "execution_count": 29,
   "metadata": {},
   "outputs": [
    {
     "data": {
      "image/png": "[encoded data removed]",
      "text/plain": [
       "<Figure size 360x360 with 1 Axes>"
      ]
     },
     "metadata": {},
     "output_type": "display_data"
    }
   ],
   "source": [
    "hod_plot = sns.catplot(x=\"hourofday\", kind=\"count\", data=data)"
   ]
  },
  {
   "cell_type": "markdown",
   "metadata": {},
   "source": [
    "From the plot, the number of trips starts increasing from 12 noon and peaks at 5PM. "
   ]
  },
  {
   "cell_type": "markdown",
   "metadata": {},
   "source": [
    "### Duration in minutes"
   ]
  },
  {
   "cell_type": "code",
   "execution_count": 30,
   "metadata": {},
   "outputs": [
    {
     "data": {
      "text/plain": [
       "count     4725.000000\n",
       "mean        27.840631\n",
       "std        340.222716\n",
       "min          1.016667\n",
       "25%          5.416667\n",
       "50%          8.816667\n",
       "75%         15.833333\n",
       "max      18116.366667\n",
       "Name: duration_min, dtype: float64"
      ]
     },
     "execution_count": 30,
     "metadata": {},
     "output_type": "execute_result"
    }
   ],
   "source": [
    "data[\"duration_min\"].describe()"
   ]
  },
  {
   "cell_type": "markdown",
   "metadata": {},
   "source": [
    "### Detect and remove outliers\n",
    "\n",
    "Outliers are defined as values that is more than 3 standard deviations away from the mean. Here, we detect them by computing the z score of each value, which is relative to the mean and standard deviation."
   ]
  },
  {
   "cell_type": "code",
   "execution_count": 31,
   "metadata": {},
   "outputs": [
    {
     "data": {
      "text/plain": [
       "20      18116.366667\n",
       "392      4165.066667\n",
       "647      5839.800000\n",
       "1279     2380.333333\n",
       "1567     1065.983333\n",
       "1820     2310.266667\n",
       "2481     2247.066667\n",
       "2841     2233.266667\n",
       "2943     1078.350000\n",
       "3092     8577.983333\n",
       "3821     5498.733333\n",
       "3924     2154.800000\n",
       "3969     5904.233333\n",
       "Name: duration_min, dtype: float64"
      ]
     },
     "execution_count": 31,
     "metadata": {},
     "output_type": "execute_result"
    }
   ],
   "source": [
    "z_scores = zscore(data[\"duration_min\"]) \n",
    "\n",
    "# Get their absolute values for easy filtering\n",
    "abs_z_scores = np.abs(z_scores)\n",
    "\n",
    "# An array of boolean values with same length as the original dataset. \n",
    "# True if value is less than 3 standard deviations from the mean or not an outlier. Otherwise, False.\n",
    "filtered_entries = (abs_z_scores < 3) \n",
    "\n",
    "# Array of boolean values where value is True if it is an outlier, otherwise False.\n",
    "duration_min_outliers = (abs_z_scores >= 3)\n",
    "data[duration_min_outliers].duration_min # Show outlier values"
   ]
  },
  {
   "cell_type": "markdown",
   "metadata": {},
   "source": [
    "#### Histograms with KDE"
   ]
  },
  {
   "cell_type": "code",
   "execution_count": 32,
   "metadata": {},
   "outputs": [
    {
     "data": {
      "image/png": "[encoded data removed]",
      "text/plain": [
       "<Figure size 360x360 with 1 Axes>"
      ]
     },
     "metadata": {},
     "output_type": "display_data"
    }
   ],
   "source": [
    "duration_plot = sns.displot(data=data[filtered_entries], x=\"duration_min\", kde=True)"
   ]
  },
  {
   "cell_type": "code",
   "execution_count": 33,
   "metadata": {},
   "outputs": [
    {
     "data": {
      "text/plain": [
       "<seaborn.axisgrid.FacetGrid at 0x7fbada5d9d50>"
      ]
     },
     "execution_count": 33,
     "metadata": {},
     "output_type": "execute_result"
    },
    {
     "data": {
      "image/png": "[encoded data removed]",
      "text/plain": [
       "<Figure size 360x360 with 1 Axes>"
      ]
     },
     "metadata": {},
     "output_type": "display_data"
    }
   ],
   "source": [
    "# Zoom in a little closer. Let's limit the x-axis to only show values up to 200\n",
    "\n",
    "duration_plot = sns.displot(data=data[filtered_entries], x=\"duration_min\", kde=True)\n",
    "duration_plot.set(xlim=(0, 200))"
   ]
  },
  {
   "cell_type": "code",
   "execution_count": 34,
   "metadata": {},
   "outputs": [
    {
     "data": {
      "text/plain": [
       "<seaborn.axisgrid.FacetGrid at 0x7fbad2579a10>"
      ]
     },
     "execution_count": 34,
     "metadata": {},
     "output_type": "execute_result"
    },
    {
     "data": {
      "image/png": "[encoded data removed]",
      "text/plain": [
       "<Figure size 360x360 with 1 Axes>"
      ]
     },
     "metadata": {},
     "output_type": "display_data"
    }
   ],
   "source": [
    "# Zoom in more. Let's limit the x-axis to only show values up to 100\n",
    "\n",
    "duration_plot = sns.displot(data=data[filtered_entries], x=\"duration_min\", kde=True)\n",
    "duration_plot.set(xlim=(0, 100))"
   ]
  },
  {
   "cell_type": "markdown",
   "metadata": {},
   "source": [
    "#### ECDF with Rug Plots"
   ]
  },
  {
   "cell_type": "code",
   "execution_count": 35,
   "metadata": {},
   "outputs": [
    {
     "data": {
      "text/plain": [
       "<seaborn.axisgrid.FacetGrid at 0x7fbad24bcd50>"
      ]
     },
     "execution_count": 35,
     "metadata": {},
     "output_type": "execute_result"
    },
    {
     "data": {
      "image/png": "[encoded data removed]",
      "text/plain": [
       "<Figure size 360x360 with 1 Axes>"
      ]
     },
     "metadata": {},
     "output_type": "display_data"
    }
   ],
   "source": [
    "duration_plot = sns.displot(data=data[filtered_entries], x=\"duration_min\", kind=\"ecdf\", rug=True)\n",
    "duration_plot.set(xlim=(0, 100))"
   ]
  },
  {
   "cell_type": "markdown",
   "metadata": {},
   "source": [
    "## 3. Examine relationships/correlations"
   ]
  },
  {
   "cell_type": "markdown",
   "metadata": {},
   "source": [
    "### User type and gender"
   ]
  },
  {
   "cell_type": "code",
   "execution_count": 36,
   "metadata": {},
   "outputs": [
    {
     "data": {
      "image/png": "[encoded data removed]",
      "text/plain": [
       "<Figure size 458.6x360 with 1 Axes>"
      ]
     },
     "metadata": {},
     "output_type": "display_data"
    }
   ],
   "source": [
    "usertype_gender_plot = sns.catplot(x=\"gender\", \n",
    "                                   kind=\"count\", \n",
    "                                   hue=\"usertype\", \n",
    "                                   palette={\"Customer\": \"g\", \"Subscriber\": \"m\"}, \n",
    "                                   data=data)"
   ]
  },
  {
   "cell_type": "markdown",
   "metadata": {},
   "source": [
    "- Users with 24-hour pass or 3-day passes did not have their gender information recorded.\n",
    "- More male subscribers than females. "
   ]
  },
  {
   "cell_type": "markdown",
   "metadata": {},
   "source": [
    "### Trip distance, duration and user type"
   ]
  },
  {
   "cell_type": "code",
   "execution_count": 37,
   "metadata": {},
   "outputs": [
    {
     "data": {
      "image/png": "[encoded data removed]",
      "text/plain": [
       "<Figure size 756x468 with 3 Axes>"
      ]
     },
     "metadata": {},
     "output_type": "display_data"
    }
   ],
   "source": [
    "dur_dist_user_plot = sns.jointplot(data=data[filtered_entries], \n",
    "                                   x=\"duration_min\", \n",
    "                                   y=\"distance_km\", \n",
    "                                   hue=\"usertype\", \n",
    "                                   palette={\"Customer\": \"g\", \"Subscriber\": \"m\"}, \n",
    "                                   alpha=0.5)\n",
    "dur_dist_user_plot.set_axis_labels(\"Trip duration (min)\", \"Trip distance (km)\", labelpad=10)\n",
    "dur_dist_user_plot.fig.set_size_inches(10.5, 6.5)"
   ]
  },
  {
   "cell_type": "code",
   "execution_count": 38,
   "metadata": {},
   "outputs": [
    {
     "data": {
      "text/plain": [
       "87      3.281467\n",
       "142     8.349835\n",
       "196     3.281888\n",
       "507     3.387563\n",
       "1004    3.769794\n",
       "1363    3.285017\n",
       "1454    3.285017\n",
       "1605    3.435339\n",
       "1618    3.285143\n",
       "1631    3.660745\n",
       "1642    3.660745\n",
       "1783    3.660745\n",
       "1808    3.660745\n",
       "2112    3.285017\n",
       "2305    3.743791\n",
       "2339    3.285017\n",
       "2562    3.246917\n",
       "2860    3.285017\n",
       "2979    3.285017\n",
       "3257    3.836830\n",
       "3289    3.464111\n",
       "3418    3.317784\n",
       "3420    3.317784\n",
       "3649    3.354213\n",
       "3653    3.418478\n",
       "3680    3.928430\n",
       "3932    3.836830\n",
       "3966    3.463201\n",
       "4008    3.928430\n",
       "4095    3.443084\n",
       "4204    3.318394\n",
       "4431    4.165345\n",
       "Name: distance_km, dtype: float64"
      ]
     },
     "execution_count": 38,
     "metadata": {},
     "output_type": "execute_result"
    }
   ],
   "source": [
    "z_scores = zscore(data[\"distance_km\"]) \n",
    "\n",
    "# Get their absolute values for easy filtering\n",
    "abs_z_scores = np.abs(z_scores)\n",
    "\n",
    "# An array of boolean values with same length as the original dataset. \n",
    "# True if value is less than 3 standard deviations from the mean or not an outlier. Otherwise, False.\n",
    "filtered_dist = (abs_z_scores < 3) \n",
    "\n",
    "# Array of boolean values where value is True if it is an outlier, otherwise False.\n",
    "dist_outliers = (abs_z_scores >= 3)\n",
    "data[dist_outliers].distance_km # Show outlier values"
   ]
  },
  {
   "cell_type": "code",
   "execution_count": 39,
   "metadata": {},
   "outputs": [
    {
     "data": {
      "image/png": "[encoded data removed]",
      "text/plain": [
       "<Figure size 756x468 with 3 Axes>"
      ]
     },
     "metadata": {},
     "output_type": "display_data"
    }
   ],
   "source": [
    "# Plot with outliers for both duration and distance\n",
    "dur_dist_user_plot = sns.jointplot(data=data[filtered_entries & filtered_dist], \n",
    "                                   x=\"duration_min\", \n",
    "                                   y=\"distance_km\", \n",
    "                                   hue=\"usertype\", \n",
    "                                   palette={\"Customer\": \"g\", \"Subscriber\": \"m\"}, \n",
    "                                   alpha=0.5)\n",
    "dur_dist_user_plot.set_axis_labels(\"Trip duration (min)\", \"Trip distance (km)\", labelpad=10)\n",
    "dur_dist_user_plot.fig.set_size_inches(10.5, 6.5)"
   ]
  },
  {
   "cell_type": "markdown",
   "metadata": {},
   "source": [
    "### Get correlation between quantitative variables"
   ]
  },
  {
   "cell_type": "code",
   "execution_count": 40,
   "metadata": {},
   "outputs": [
    {
     "data": {
      "text/html": [
       "<div>\n",
       "<style scoped>\n",
       "    .dataframe tbody tr th:only-of-type {\n",
       "        vertical-align: middle;\n",
       "    }\n",
       "\n",
       "    .dataframe tbody tr th {\n",
       "        vertical-align: top;\n",
       "    }\n",
       "\n",
       "    .dataframe thead th {\n",
       "        text-align: right;\n",
       "    }\n",
       "</style>\n",
       "<table border=\"1\" class=\"dataframe\">\n",
       "  <thead>\n",
       "    <tr style=\"text-align: right;\">\n",
       "      <th></th>\n",
       "      <th>gender</th>\n",
       "      <th>duration_min</th>\n",
       "      <th>age</th>\n",
       "      <th>distance_km</th>\n",
       "    </tr>\n",
       "  </thead>\n",
       "  <tbody>\n",
       "    <tr>\n",
       "      <th>0</th>\n",
       "      <td>1</td>\n",
       "      <td>11.383333</td>\n",
       "      <td>63</td>\n",
       "      <td>1.072089</td>\n",
       "    </tr>\n",
       "    <tr>\n",
       "      <th>1</th>\n",
       "      <td>1</td>\n",
       "      <td>47.500000</td>\n",
       "      <td>63</td>\n",
       "      <td>1.121508</td>\n",
       "    </tr>\n",
       "    <tr>\n",
       "      <th>2</th>\n",
       "      <td>1</td>\n",
       "      <td>9.083333</td>\n",
       "      <td>25</td>\n",
       "      <td>0.763566</td>\n",
       "    </tr>\n",
       "    <tr>\n",
       "      <th>3</th>\n",
       "      <td>2</td>\n",
       "      <td>7.883333</td>\n",
       "      <td>34</td>\n",
       "      <td>1.076380</td>\n",
       "    </tr>\n",
       "    <tr>\n",
       "      <th>4</th>\n",
       "      <td>1</td>\n",
       "      <td>12.466667</td>\n",
       "      <td>59</td>\n",
       "      <td>1.856858</td>\n",
       "    </tr>\n",
       "    <tr>\n",
       "      <th>...</th>\n",
       "      <td>...</td>\n",
       "      <td>...</td>\n",
       "      <td>...</td>\n",
       "      <td>...</td>\n",
       "    </tr>\n",
       "    <tr>\n",
       "      <th>4720</th>\n",
       "      <td>1</td>\n",
       "      <td>5.916667</td>\n",
       "      <td>34</td>\n",
       "      <td>0.692491</td>\n",
       "    </tr>\n",
       "    <tr>\n",
       "      <th>4721</th>\n",
       "      <td>0</td>\n",
       "      <td>4.483333</td>\n",
       "      <td>51</td>\n",
       "      <td>0.692491</td>\n",
       "    </tr>\n",
       "    <tr>\n",
       "      <th>4722</th>\n",
       "      <td>0</td>\n",
       "      <td>3.216667</td>\n",
       "      <td>51</td>\n",
       "      <td>0.692491</td>\n",
       "    </tr>\n",
       "    <tr>\n",
       "      <th>4723</th>\n",
       "      <td>1</td>\n",
       "      <td>42.500000</td>\n",
       "      <td>63</td>\n",
       "      <td>1.307529</td>\n",
       "    </tr>\n",
       "    <tr>\n",
       "      <th>4724</th>\n",
       "      <td>0</td>\n",
       "      <td>5.966667</td>\n",
       "      <td>51</td>\n",
       "      <td>1.310639</td>\n",
       "    </tr>\n",
       "  </tbody>\n",
       "</table>\n",
       "<p>4725 rows × 4 columns</p>\n",
       "</div>"
      ],
      "text/plain": [
       "      gender  duration_min  age  distance_km\n",
       "0          1     11.383333   63     1.072089\n",
       "1          1     47.500000   63     1.121508\n",
       "2          1      9.083333   25     0.763566\n",
       "3          2      7.883333   34     1.076380\n",
       "4          1     12.466667   59     1.856858\n",
       "...      ...           ...  ...          ...\n",
       "4720       1      5.916667   34     0.692491\n",
       "4721       0      4.483333   51     0.692491\n",
       "4722       0      3.216667   51     0.692491\n",
       "4723       1     42.500000   63     1.307529\n",
       "4724       0      5.966667   51     1.310639\n",
       "\n",
       "[4725 rows x 4 columns]"
      ]
     },
     "execution_count": 40,
     "metadata": {},
     "output_type": "execute_result"
    }
   ],
   "source": [
    "data_to_corr = data[[\"gender\", \"duration_min\", \"age\", \"distance_km\"]]\n",
    "data_to_corr"
   ]
  },
  {
   "cell_type": "code",
   "execution_count": 41,
   "metadata": {},
   "outputs": [
    {
     "data": {
      "text/html": [
       "<div>\n",
       "<style scoped>\n",
       "    .dataframe tbody tr th:only-of-type {\n",
       "        vertical-align: middle;\n",
       "    }\n",
       "\n",
       "    .dataframe tbody tr th {\n",
       "        vertical-align: top;\n",
       "    }\n",
       "\n",
       "    .dataframe thead th {\n",
       "        text-align: right;\n",
       "    }\n",
       "</style>\n",
       "<table border=\"1\" class=\"dataframe\">\n",
       "  <thead>\n",
       "    <tr style=\"text-align: right;\">\n",
       "      <th></th>\n",
       "      <th>gender</th>\n",
       "      <th>duration_min</th>\n",
       "      <th>age</th>\n",
       "      <th>distance_km</th>\n",
       "    </tr>\n",
       "  </thead>\n",
       "  <tbody>\n",
       "    <tr>\n",
       "      <th>2</th>\n",
       "      <td>1</td>\n",
       "      <td>9.083333</td>\n",
       "      <td>25</td>\n",
       "      <td>0.763566</td>\n",
       "    </tr>\n",
       "    <tr>\n",
       "      <th>20</th>\n",
       "      <td>2</td>\n",
       "      <td>18116.366667</td>\n",
       "      <td>35</td>\n",
       "      <td>0.941277</td>\n",
       "    </tr>\n",
       "    <tr>\n",
       "      <th>31</th>\n",
       "      <td>1</td>\n",
       "      <td>14.366667</td>\n",
       "      <td>25</td>\n",
       "      <td>1.030527</td>\n",
       "    </tr>\n",
       "    <tr>\n",
       "      <th>53</th>\n",
       "      <td>1</td>\n",
       "      <td>13.033333</td>\n",
       "      <td>25</td>\n",
       "      <td>1.166187</td>\n",
       "    </tr>\n",
       "    <tr>\n",
       "      <th>64</th>\n",
       "      <td>1</td>\n",
       "      <td>16.100000</td>\n",
       "      <td>25</td>\n",
       "      <td>1.379661</td>\n",
       "    </tr>\n",
       "    <tr>\n",
       "      <th>...</th>\n",
       "      <td>...</td>\n",
       "      <td>...</td>\n",
       "      <td>...</td>\n",
       "      <td>...</td>\n",
       "    </tr>\n",
       "    <tr>\n",
       "      <th>4588</th>\n",
       "      <td>1</td>\n",
       "      <td>7.183333</td>\n",
       "      <td>25</td>\n",
       "      <td>1.114957</td>\n",
       "    </tr>\n",
       "    <tr>\n",
       "      <th>4608</th>\n",
       "      <td>2</td>\n",
       "      <td>10.766667</td>\n",
       "      <td>72</td>\n",
       "      <td>1.762006</td>\n",
       "    </tr>\n",
       "    <tr>\n",
       "      <th>4650</th>\n",
       "      <td>1</td>\n",
       "      <td>7.666667</td>\n",
       "      <td>25</td>\n",
       "      <td>1.030848</td>\n",
       "    </tr>\n",
       "    <tr>\n",
       "      <th>4682</th>\n",
       "      <td>1</td>\n",
       "      <td>9.350000</td>\n",
       "      <td>25</td>\n",
       "      <td>1.030848</td>\n",
       "    </tr>\n",
       "    <tr>\n",
       "      <th>4703</th>\n",
       "      <td>2</td>\n",
       "      <td>64.383333</td>\n",
       "      <td>24</td>\n",
       "      <td>0.273087</td>\n",
       "    </tr>\n",
       "  </tbody>\n",
       "</table>\n",
       "<p>128 rows × 4 columns</p>\n",
       "</div>"
      ],
      "text/plain": [
       "      gender  duration_min  age  distance_km\n",
       "2          1      9.083333   25     0.763566\n",
       "20         2  18116.366667   35     0.941277\n",
       "31         1     14.366667   25     1.030527\n",
       "53         1     13.033333   25     1.166187\n",
       "64         1     16.100000   25     1.379661\n",
       "...      ...           ...  ...          ...\n",
       "4588       1      7.183333   25     1.114957\n",
       "4608       2     10.766667   72     1.762006\n",
       "4650       1      7.666667   25     1.030848\n",
       "4682       1      9.350000   25     1.030848\n",
       "4703       2     64.383333   24     0.273087\n",
       "\n",
       "[128 rows x 4 columns]"
      ]
     },
     "execution_count": 41,
     "metadata": {},
     "output_type": "execute_result"
    }
   ],
   "source": [
    "z_scores = zscore(data_to_corr[[\"duration_min\", \"age\", \"distance_km\"]]) \n",
    "\n",
    "# Get their absolute values for easy filtering\n",
    "abs_z_scores = np.abs(z_scores)\n",
    "\n",
    "# An array of boolean values with same length as the original dataset. \n",
    "# True if value is less than 3 standard deviations from the mean or not an outlier. Otherwise, False.\n",
    "filtered_rows = (abs_z_scores < 3).all(axis=1) \n",
    "\n",
    "# Array of boolean values where value is True if it is an outlier, otherwise False.\n",
    "data_to_corr_outliers = (abs_z_scores >= 3)\n",
    "data_to_corr[data_to_corr_outliers] # Show outlier values"
   ]
  },
  {
   "cell_type": "code",
   "execution_count": 42,
   "metadata": {},
   "outputs": [],
   "source": [
    "data_to_corr = data_to_corr[filtered_rows]"
   ]
  },
  {
   "cell_type": "code",
   "execution_count": 43,
   "metadata": {},
   "outputs": [
    {
     "data": {
      "image/png": "[encoded data removed]",
      "text/plain": [
       "<Figure size 432x288 with 2 Axes>"
      ]
     },
     "metadata": {},
     "output_type": "display_data"
    }
   ],
   "source": [
    "data_corr_heatmap = sns.heatmap(data_to_corr.corr(), \n",
    "                                center=0, \n",
    "                                cmap=\"YlGnBu\", \n",
    "                                annot=True, \n",
    "                                vmin=-1, \n",
    "                                vmax=1)"
   ]
  },
  {
   "cell_type": "code",
   "execution_count": 44,
   "metadata": {},
   "outputs": [
    {
     "data": {
      "image/png": "[encoded data removed]",
      "text/plain": [
       "<Figure size 432x288 with 2 Axes>"
      ]
     },
     "metadata": {},
     "output_type": "display_data"
    }
   ],
   "source": [
    "mask = np.triu(np.ones_like(data_to_corr.corr(), dtype=bool))\n",
    "\n",
    "data_corr_heatmap = sns.heatmap(data_to_corr.corr(), \n",
    "                                center=0, \n",
    "                                cmap=\"YlGnBu\", \n",
    "                                annot=True, \n",
    "                                mask=mask,\n",
    "                                vmin=-1, \n",
    "                                vmax=1)"
   ]
  },
  {
   "cell_type": "markdown",
   "metadata": {},
   "source": [
    "Variables `distance_km` and `duration_min` showed some positive correlation. We can still include them as features in a modeling task later."
   ]
  },
  {
   "cell_type": "code",
   "execution_count": null,
   "metadata": {},
   "outputs": [],
   "source": []
  }
 ],
 "metadata": {
  "kernelspec": {
   "display_name": "Python 3",
   "language": "python",
   "name": "python3"
  },
  "language_info": {
   "codemirror_mode": {
    "name": "ipython",
    "version": 3
   },
   "file_extension": ".py",
   "mimetype": "text/x-python",
   "name": "python",
   "nbconvert_exporter": "python",
   "pygments_lexer": "ipython3",
   "version": "3.7.10"
  }
 },
 "nbformat": 4,
 "nbformat_minor": 4
}
